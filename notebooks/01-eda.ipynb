{
 "cells": [
  {
   "cell_type": "markdown",
   "id": "991e3e11-709c-44e2-a00b-8475e9c2ea6c",
   "metadata": {},
   "source": [
    "# Generate a Pandas Profile Report\n",
    "## Census Data"
   ]
  },
  {
   "cell_type": "code",
   "execution_count": null,
   "id": "be4dc97a-ed63-4690-9c75-01a784f96ab1",
   "metadata": {},
   "outputs": [],
   "source": [
    "!pip install pandas_profiling -q"
   ]
  },
  {
   "cell_type": "code",
   "execution_count": null,
   "id": "8f492257-23a4-4f10-8bbd-51f230d99f11",
   "metadata": {},
   "outputs": [],
   "source": [
    "import pandas as pd\n",
    "import pandas_profiling\n",
    "from pandas_profiling import ProfileReport\n",
    "import matplotlib.pyplot as plt"
   ]
  },
  {
   "cell_type": "code",
   "execution_count": null,
   "id": "1946294a-c469-4695-a0d2-2e28cd099768",
   "metadata": {},
   "outputs": [],
   "source": [
    "raw_data_file = '../starter/data/census.csv'\n",
    "df = pd.read_csv(raw_data_file)"
   ]
  },
  {
   "cell_type": "code",
   "execution_count": null,
   "id": "569f5031-10a4-426e-877d-3777d9c97154",
   "metadata": {},
   "outputs": [],
   "source": [
    "profile = pandas_profiling.ProfileReport(df)"
   ]
  },
  {
   "cell_type": "markdown",
   "id": "07156acf-2815-4ce8-990b-f878e4c043f9",
   "metadata": {},
   "source": [
    "#### The browser width may have to be extended to view the report."
   ]
  },
  {
   "cell_type": "code",
   "execution_count": null,
   "id": "75167830-d553-4ac1-8ad6-969d6381c36f",
   "metadata": {},
   "outputs": [],
   "source": [
    "profile.to_widgets()"
   ]
  },
  {
   "cell_type": "markdown",
   "id": "123785b9-8ca7-450b-b1a1-81ea826dc016",
   "metadata": {},
   "source": [
    "#### Save the report as an html file."
   ]
  },
  {
   "cell_type": "code",
   "execution_count": null,
   "id": "1f949e88-dccb-43f6-9002-ad796c6a74c1",
   "metadata": {},
   "outputs": [],
   "source": [
    "prof = ProfileReport(df)\n",
    "prof.to_file(output_file='output.html')"
   ]
  },
  {
   "cell_type": "code",
   "execution_count": null,
   "id": "82159b09-c302-412e-a292-6ae116a513d1",
   "metadata": {},
   "outputs": [],
   "source": []
  }
 ],
 "metadata": {
  "kernelspec": {
   "display_name": "Python 3 (ipykernel)",
   "language": "python",
   "name": "python3"
  },
  "language_info": {
   "codemirror_mode": {
    "name": "ipython",
    "version": 3
   },
   "file_extension": ".py",
   "mimetype": "text/x-python",
   "name": "python",
   "nbconvert_exporter": "python",
   "pygments_lexer": "ipython3",
   "version": "3.8.13"
  }
 },
 "nbformat": 4,
 "nbformat_minor": 5
}
